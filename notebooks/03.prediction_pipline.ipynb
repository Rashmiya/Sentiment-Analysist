{
 "cells": [
  {
   "cell_type": "code",
   "execution_count": 51,
   "id": "c394a963-ebc1-4554-bdb0-6fc9d4544e02",
   "metadata": {},
   "outputs": [],
   "source": [
    "import numpy as np\n",
    "import pandas as pd\n",
    "import pickle"
   ]
  },
  {
   "cell_type": "code",
   "execution_count": 53,
   "id": "959a7ab3-bf85-4fb3-a36c-a15efa16da90",
   "metadata": {},
   "outputs": [],
   "source": [
    "# Text Pre-Processing\n",
    "import re\n",
    "import string"
   ]
  },
  {
   "cell_type": "code",
   "execution_count": 55,
   "id": "20b4f8d8-f1a3-4c45-ad53-7ba4f7dadd1b",
   "metadata": {},
   "outputs": [],
   "source": [
    "txt = 'great product, I like it'"
   ]
  },
  {
   "cell_type": "code",
   "execution_count": 57,
   "id": "f313fdc8-32bb-4b72-9662-3288bd946f9e",
   "metadata": {},
   "outputs": [],
   "source": [
    "# Remove Punctuations\n",
    "def remove_punctuations(text):\n",
    "    for punctuation in string.punctuation:\n",
    "        text=text.replace(punctuation, '')\n",
    "    return text"
   ]
  },
  {
   "cell_type": "code",
   "execution_count": 59,
   "id": "0f7139bb-f3be-435c-93ef-3a121253ffac",
   "metadata": {},
   "outputs": [],
   "source": [
    "with open('../static/model/corpora/stopwords/english', 'r') as file:\n",
    "    sw = file.read().splitlines()"
   ]
  },
  {
   "cell_type": "code",
   "execution_count": 61,
   "id": "8d14ef50-ba6d-4ae7-94b6-eaec303bd2bd",
   "metadata": {},
   "outputs": [],
   "source": [
    "# load trained model\n",
    "with open('../static/model.pickle', 'rb') as f:\n",
    "    model = pickle.load(f)"
   ]
  },
  {
   "cell_type": "code",
   "execution_count": 63,
   "id": "d8a54542-707d-46ca-8efb-e96f5b230a7e",
   "metadata": {},
   "outputs": [],
   "source": [
    "# Stemming (get base word)\n",
    "from nltk.stem import PorterStemmer\n",
    "ps = PorterStemmer()\n"
   ]
  },
  {
   "cell_type": "code",
   "execution_count": 65,
   "id": "5bbedb61-f7e3-4b64-bc77-848eb29d07e1",
   "metadata": {},
   "outputs": [],
   "source": [
    "def preprocessing(text):\n",
    "    data = pd.DataFrame([text], columns=['tweet'])\n",
    "#convert uppercase to lowercase\n",
    "    data['tweet'] = data['tweet'].apply(lambda x: \" \".join(x.lower() for x in x.split()))\n",
    "# remove links using regression\n",
    "    data['tweet'] = data['tweet'].apply(lambda x: \" \".join(re.sub(r'^https?:\\/\\/.*[\\r\\n]*', '', x, flags=re.MULTILINE) for x in x.split()))\n",
    "    data['tweet'] = data['tweet'].apply(remove_punctuations)\n",
    "# Remove numbers\n",
    "    data['tweet'] = data['tweet'].str.replace(r'\\d+', '', regex=True)\n",
    "    data['tweet'] = data['tweet'].apply(lambda x: \" \".join(x for x in x.split() if x not in sw))\n",
    "    data['tweet'] = data['tweet'].apply(lambda x: \" \".join(ps.stem(x) for x in x.split()))\n",
    "    return data['tweet']"
   ]
  },
  {
   "cell_type": "code",
   "execution_count": 67,
   "id": "c7797591-b0ae-407f-9b7b-aa2196dfaf15",
   "metadata": {},
   "outputs": [],
   "source": [
    "preprocessedText = preprocessing(txt)"
   ]
  },
  {
   "cell_type": "code",
   "execution_count": 69,
   "id": "689e13f0-414e-422f-8452-a5d35e13b235",
   "metadata": {},
   "outputs": [
    {
     "data": {
      "text/plain": [
       "0    great product like\n",
       "Name: tweet, dtype: object"
      ]
     },
     "execution_count": 69,
     "metadata": {},
     "output_type": "execute_result"
    }
   ],
   "source": [
    "preprocessedText"
   ]
  },
  {
   "cell_type": "code",
   "execution_count": 71,
   "id": "26835fed-b365-4c22-b8cf-aa416ef3fe9e",
   "metadata": {},
   "outputs": [],
   "source": [
    "vocab = pd.read_csv('../static/model/vocabulary.txt', header=None)\n",
    "tokens = vocab[0].tolist()"
   ]
  },
  {
   "cell_type": "code",
   "execution_count": 73,
   "id": "0eb1d181-a102-435d-b246-960ee45f1745",
   "metadata": {},
   "outputs": [],
   "source": [
    "# should convert text values into numerical values (Vectorization)\n",
    "def vectorizer(ds, vocabulary):\n",
    "    vectorized_lst = []\n",
    "\n",
    "    for sentence in ds:\n",
    "        sentence_lst = np.zeros(len(vocabulary))\n",
    "\n",
    "        for i in range(len(vocabulary)):\n",
    "            if vocabulary[i] in sentence.split():\n",
    "                sentence_lst[i] = 1\n",
    "\n",
    "        vectorized_lst.append(sentence_lst)\n",
    "\n",
    "    vectorized_lst_new = np.asarray(vectorized_lst, dtype=np.float32)\n",
    "\n",
    "    return vectorized_lst_new"
   ]
  },
  {
   "cell_type": "code",
   "execution_count": 75,
   "id": "d8ff43c0-659e-45d8-b269-5dfba5b49279",
   "metadata": {},
   "outputs": [],
   "source": [
    "vectorized_txt = vectorizer(preprocessedText, tokens)"
   ]
  },
  {
   "cell_type": "code",
   "execution_count": 77,
   "id": "eb246536-9e2a-4819-a980-b5feba674365",
   "metadata": {},
   "outputs": [
    {
     "data": {
      "text/plain": [
       "array([[0., 0., 0., ..., 0., 0., 0.]], dtype=float32)"
      ]
     },
     "execution_count": 77,
     "metadata": {},
     "output_type": "execute_result"
    }
   ],
   "source": [
    "vectorized_txt"
   ]
  },
  {
   "cell_type": "code",
   "execution_count": 79,
   "id": "6acf36c6-6e5e-4884-9aee-685b7bf4eba7",
   "metadata": {},
   "outputs": [
    {
     "data": {
      "text/plain": [
       "array([0], dtype=int64)"
      ]
     },
     "execution_count": 79,
     "metadata": {},
     "output_type": "execute_result"
    }
   ],
   "source": [
    "model.predict(vectorized_txt)"
   ]
  },
  {
   "cell_type": "code",
   "execution_count": null,
   "id": "533fdb1c-ebe2-47fa-9a13-b072bc174e77",
   "metadata": {},
   "outputs": [],
   "source": []
  }
 ],
 "metadata": {
  "kernelspec": {
   "display_name": "Python 3 (ipykernel)",
   "language": "python",
   "name": "python3"
  },
  "language_info": {
   "codemirror_mode": {
    "name": "ipython",
    "version": 3
   },
   "file_extension": ".py",
   "mimetype": "text/x-python",
   "name": "python",
   "nbconvert_exporter": "python",
   "pygments_lexer": "ipython3",
   "version": "3.12.7"
  }
 },
 "nbformat": 4,
 "nbformat_minor": 5
}
